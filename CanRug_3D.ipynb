{
 "cells": [
  {
   "cell_type": "code",
   "execution_count": null,
   "metadata": {},
   "outputs": [],
   "source": [
    "import pandas as pd\n",
    "import numpy as np\n",
    "import rasterio\n",
    "import os\n",
    "import pyreadr\n",
    "import libpysal as ps\n",
    "from esda.moran import Moran"
   ]
  },
  {
   "cell_type": "markdown",
   "metadata": {},
   "source": [
    "Function for generating a grid of *StdBin* values as a numpy array from a dataframe of voxel hit data:"
   ]
  },
  {
   "cell_type": "code",
   "execution_count": null,
   "metadata": {},
   "outputs": [],
   "source": [
    "def get_Std_arr(dataframe):\n",
    "    dataframe = dataframe.assign(VAI=0)\n",
    "    columns = dataframe.groupby(['X', 'Y'])\n",
    "    std_df = pd.DataFrame(columns=[\"X\", \"Y\", \"Std_Col\"]) # store StdBin values\n",
    "\n",
    "    # Compute std of mean column leaf height for each column\n",
    "    for (x, y), group in columns:\n",
    "        StdBin, H_x = 0, 0 # mean leaf height and std of mean column leaf height\n",
    "        for idx in group.index:\n",
    "            group['VAI'][idx] = group['N'][idx] / sum(group['N'])\n",
    "            H_x += group['Z'][idx]*group['VAI'][idx]\n",
    "        for idx in group.index:\n",
    "            var = (group['Z'][idx] - H_x)**2\n",
    "            StdBin += group['VAI'][idx]*var # StdBinx from forestR\n",
    "        \n",
    "        new_row = {'X': x, 'Y': y, 'Std_Col': StdBin}\n",
    "        std_df = std_df._append(new_row, ignore_index=True)\n",
    "    \n",
    "    pivot_df = std_df.pivot(index='Y', columns='X', values='Std_Col')\n",
    "    # Convert the pivot DataFrame to a 2D NumPy array\n",
    "    std_arr = pivot_df.to_numpy()   \n",
    "    std_arr = np.nan_to_num(std_arr, nan=0.0) # set all nans to 0's\n",
    "\n",
    "    return std_arr"
   ]
  },
  {
   "cell_type": "markdown",
   "metadata": {},
   "source": [
    "Function for computing all three variants of *Canopy Rugosity*:"
   ]
  },
  {
   "cell_type": "code",
   "execution_count": null,
   "metadata": {},
   "outputs": [],
   "source": [
    "def Compute_Vars(dir_path, res):\n",
    "\n",
    "    files = [file for file in os.listdir(dir_path) if file.endswith(f\"{res}m.RData\")]\n",
    "    res_df = pd.DataFrame(columns=['Plot', f'CanRug_{res}m_v1', f'CanRug_{res}m_v2', f'CanRug_{res}m_MoranI'])\n",
    "   \n",
    "    for i, f_name in enumerate(files):\n",
    "        r_data = os.path.join(dir_path, f_name)\n",
    "        # Read the RData file containg voxel hits into a dataframe\n",
    "        vox_hits = pyreadr.read_r(r_data)\n",
    "        df = vox_hits[\"vox_hits\"] \n",
    "        res_df.at[i, 'Plot'] = f_name[6:8] # append plot number\n",
    "        array = get_Std_arr(df) # get array of StdBin values at each (X,Y) location\n",
    "\n",
    "        # v1: Overall variance of 2D grid\n",
    "        res_v1 = np.std(array)\n",
    "        res_df.at[i, f'CanRug_{res}m_v1'] = res_v1\n",
    "\n",
    "        # v2: average of means of stds along X and Y \n",
    "        std_x = np.std(array, axis=1)\n",
    "        std_y = np.std(array, axis=0)\n",
    "        mean_x = np.mean(std_x)\n",
    "        mean_y = np.mean(std_y)\n",
    "        res_v2 = (mean_x + mean_y)/2\n",
    "        res_df.at[i, f'CanRug_{res}m_v2'] = res_v2\n",
    "\n",
    "        # Compute Moran's I\n",
    "        weights = ps.weights.lat2W(array.shape[1], array.shape[0], rook=False)\n",
    "        moran = Moran(array.flatten(), weights)\n",
    "        res_df.at[i, f'CanRug_{res}m_MoranI'] = moran.I\n",
    "\n",
    "    return res_df"
   ]
  }
 ],
 "metadata": {
  "language_info": {
   "name": "python"
  }
 },
 "nbformat": 4,
 "nbformat_minor": 2
}
