{
 "cells": [
  {
   "cell_type": "code",
   "execution_count": null,
   "metadata": {},
   "outputs": [],
   "source": [
    "import pandas as pd\n",
    "import numpy as np\n",
    "import rasterio\n",
    "import os\n",
    "import libpysal as ps\n",
    "from esda.moran import Moran"
   ]
  },
  {
   "cell_type": "markdown",
   "metadata": {},
   "source": [
    "Functions for replacing NaNs with average of nearest neighbouring non-NaN raster values:"
   ]
  },
  {
   "cell_type": "code",
   "execution_count": null,
   "metadata": {},
   "outputs": [],
   "source": [
    "# Function to calculate the average of nearest neighboring non-NaN raster cells\n",
    "def interp_average(array, row, col):\n",
    "    # Dimensions of the array\n",
    "    rows, cols = array.shape\n",
    "    total = 0\n",
    "    count = 0\n",
    "    for i in range(row - 1, row + 2):\n",
    "        for j in range(col - 1, col + 2):\n",
    "            if 0 <= i < rows and 0 <= j < cols:\n",
    "                if not np.isnan(array[i, j]):\n",
    "                    total += array[i, j]\n",
    "                    count += 1\n",
    "    if count == 0: # all neighbours are NaNs\n",
    "        non_nan_inds = np.argwhere(~np.isnan(array))\n",
    "        # Calculate Euclidean distances to non-NaN indices\n",
    "        distances = np.linalg.norm(non_nan_inds - (row, col), axis=1)\n",
    "        # Find the index of the nearest non-NaN value\n",
    "        nearest_idx = non_nan_inds[np.argmin(distances)]\n",
    "        return array[nearest_idx[0], nearest_idx[1]]\n",
    "    else:\n",
    "        return total / count\n",
    "    \n",
    "# Function to replace NaNs with the average of nearest neighboring non-NaN raster cells\n",
    "def replace_nans(array):\n",
    "    inds = list(np.argwhere(np.isnan(array)))\n",
    "    print(inds)\n",
    "    for ind in inds: \n",
    "        array[ind[0],ind[1]] = interp_average(array, ind[0], ind[1])"
   ]
  },
  {
   "cell_type": "markdown",
   "metadata": {},
   "source": [
    "Function for computing all three variants of 3D CSC metrics:"
   ]
  },
  {
   "cell_type": "code",
   "execution_count": null,
   "metadata": {},
   "outputs": [],
   "source": [
    "\n",
    "def Compute_Vars(dir_path, metric, res):\n",
    "    \n",
    "    files = [file for file in os.listdir(dir_path) if file.endswith(f\"{metric}_{res}m.tif\")]\n",
    "    # Dataframe for storing metric values\n",
    "    res_df = pd.DataFrame(columns=['Plot', f'{metric}_var_v1', f'{metric}_var_v2', f'{metric}_MoranI'])\n",

    "    for i, f_name in enumerate(files):\n",
    "        tif_file = os.path.join(dir_path, f_name)\n",
    "        with rasterio.open(tif_file) as src:\n",
    "            arr = src.read()\n",
    "        arr = np.squeeze(arr)\n",
    "        res_df.at[i, 'Plot'] = f_name[6:8] # append plot number\n",
    "\n",
    "        # Handling empty raster cells (no hits)\n",
    "        nan_count = np.sum(np.isnan(arr))\n",
    "        if nan_count>0:\n",
    "            # For Entropy Variability and Percent Hits Above Mean Height Variability, set NaNs to 0\n",
    "            if metric in (\"zent\", \"pzabovem\"):\n",
    "                arr = np.nan_to_num(arr, nan=0.0)\n",
    "            # For other 3D CSC metrics, replace NaNs with interpolated value\n",
    "            else:\n",
    "                replace_nans(arr)\n",
    "\n",
    "        # v1: Overall variance of 2D grid\n",
    "        res_v1 = np.std(arr)\n",
    "        res_df.at[i, f'{metric}_var_v1'] = res_v1\n",
    "\n",
    "        # v2: average of means of stds along X and Y \n",
    "        std_x = np.std(arr, axis=1)\n",
    "        std_y = np.std(arr, axis=0)\n",
    "        mean_x = np.mean(std_x)\n",
    "        mean_y = np.mean(std_y)\n",
    "        res_v2 = (mean_x + mean_y)/2\n",
    "        res_df.at[i, f'{metric}_var_v2'] = res_v2\n",
    "\n",
    "        # Compute Moran's I\n",
    "        weights = ps.weights.lat2W(arr.shape[1], arr.shape[0], rook=False)\n",
    "        moran = Moran(arr.flatten(), weights)\n",
    "        res_df.at[i, f'{metric}_MoranI'] = moran.I\n",
    "\n",
    "    return res_df"
   ]
  }
 ],
 "metadata": {
  "language_info": {
   "name": "python"
  }
 },
 "nbformat": 4,
 "nbformat_minor": 2
}
